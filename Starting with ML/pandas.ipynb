{
 "cells": [
  {
   "cell_type": "code",
   "execution_count": 1,
   "metadata": {},
   "outputs": [],
   "source": [
    "import pandas as pd"
   ]
  },
  {
   "cell_type": "code",
   "execution_count": 4,
   "metadata": {},
   "outputs": [
    {
     "name": "stdout",
     "output_type": "stream",
     "text": [
      "0    1\n",
      "1    2\n",
      "2    3\n",
      "3    4\n",
      "4    5\n",
      "dtype: int64\n",
      "<class 'pandas.core.series.Series'>\n"
     ]
    }
   ],
   "source": [
    "data = [1,2,3,4,5]\n",
    "series = pd.Series(data)\n",
    "print(series)\n",
    "print(type(series))"
   ]
  },
  {
   "cell_type": "code",
   "execution_count": 5,
   "metadata": {},
   "outputs": [
    {
     "name": "stdout",
     "output_type": "stream",
     "text": [
      "a    1\n",
      "b    2\n",
      "c    3\n",
      "dtype: int64\n"
     ]
    }
   ],
   "source": [
    "## Craete series from dictionary \n",
    "data = {'a':1,'b':2,'c':3}\n",
    "\n",
    "series = pd.Series(data)\n",
    "\n",
    "print(series)"
   ]
  },
  {
   "cell_type": "code",
   "execution_count": null,
   "metadata": {},
   "outputs": [
    {
     "data": {
      "text/plain": [
       "a    10\n",
       "b    20\n",
       "c    30\n",
       "dtype: int64"
      ]
     },
     "execution_count": 6,
     "metadata": {},
     "output_type": "execute_result"
    }
   ],
   "source": [
    "## Putting indices of our wish\n",
    "\n",
    "data = [10,20,30]\n",
    "index = ['a','b','c']\n",
    "\n",
    "pd.Series(data,index = index)\n"
   ]
  },
  {
   "cell_type": "code",
   "execution_count": 8,
   "metadata": {},
   "outputs": [
    {
     "name": "stdout",
     "output_type": "stream",
     "text": [
      "    Name  age      city\n",
      "0  krish   25       blr\n",
      "1   jphn   30  new york\n",
      "2   jack   45   florida\n",
      "<class 'pandas.core.frame.DataFrame'>\n"
     ]
    }
   ],
   "source": [
    "## DataFrame \n",
    "\n",
    "data = {\n",
    "  'Name':['krish','jphn','jack'],\n",
    "  'age' : [25,30,45],\n",
    "  'city' : ['blr','new york','florida']\n",
    " }\n",
    "\n",
    "df = pd.DataFrame(data)\n",
    "print(df)\n",
    "print(type(df))"
   ]
  },
  {
   "cell_type": "code",
   "execution_count": 12,
   "metadata": {},
   "outputs": [
    {
     "name": "stdout",
     "output_type": "stream",
     "text": [
      "       Name  age      city\n",
      "0  sahastra   64      blr \n",
      "1    noufal   21  chennai \n",
      "2   sahithi   18   guntur \n",
      "3   thrisha   32    mumbai\n",
      "0    sahastra\n",
      "1      noufal\n",
      "2     sahithi\n",
      "3     thrisha\n",
      "Name: Name, dtype: object\n"
     ]
    }
   ],
   "source": [
    "## Dataframe from a list of dictionaries\n",
    "\n",
    "data = [\n",
    "  {'Name':'sahastra','age':64,'city':'blr '},\n",
    "  {'Name':'noufal','age':21,'city':'chennai '},\n",
    "  {'Name':'sahithi','age':18,'city':'guntur '},\n",
    "  {'Name':'thrisha','age':32,'city':'mumbai'}\n",
    "]\n",
    "\n",
    "df = pd.DataFrame(data)\n",
    "print(df)\n",
    "\n",
    "\n",
    "print(df['Name'])"
   ]
  },
  {
   "cell_type": "code",
   "execution_count": 13,
   "metadata": {},
   "outputs": [
    {
     "name": "stdout",
     "output_type": "stream",
     "text": [
      "       Name  age      city\n",
      "0  sahastra   64      blr \n",
      "1    noufal   21  chennai \n",
      "2   sahithi   18   guntur \n",
      "3   thrisha   32    mumbai\n"
     ]
    }
   ],
   "source": [
    "## Manipulating the dataframe\n",
    "\n",
    "print(df)"
   ]
  },
  {
   "cell_type": "code",
   "execution_count": null,
   "metadata": {},
   "outputs": [
    {
     "name": "stdout",
     "output_type": "stream",
     "text": [
      "       Name  age      city  salary\n",
      "0  sahastra   64      blr     5000\n",
      "1    noufal   21  chennai    70000\n",
      "2   sahithi   18   guntur     1000\n",
      "3   thrisha   32    mumbai    3000\n",
      "       Name  age      city\n",
      "0  sahastra   64      blr \n",
      "1    noufal   21  chennai \n",
      "2   sahithi   18   guntur \n",
      "3   thrisha   32    mumbai\n"
     ]
    }
   ],
   "source": [
    "df['salary'] = [5000,70000,1000,3000]\n",
    "print(df)\n",
    " \n",
    "## axis one means the column, and inplace means the change will be permanent \n",
    "\n",
    "df.drop('salary',axis=1,inplace = True)\n",
    "print(df)"
   ]
  },
  {
   "cell_type": "code",
   "execution_count": null,
   "metadata": {},
   "outputs": [],
   "source": []
  }
 ],
 "metadata": {
  "kernelspec": {
   "display_name": "base",
   "language": "python",
   "name": "python3"
  },
  "language_info": {
   "codemirror_mode": {
    "name": "ipython",
    "version": 3
   },
   "file_extension": ".py",
   "mimetype": "text/x-python",
   "name": "python",
   "nbconvert_exporter": "python",
   "pygments_lexer": "ipython3",
   "version": "3.11.4"
  }
 },
 "nbformat": 4,
 "nbformat_minor": 2
}
